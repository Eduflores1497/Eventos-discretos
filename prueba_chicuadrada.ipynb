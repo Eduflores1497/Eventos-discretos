{
  "nbformat": 4,
  "nbformat_minor": 0,
  "metadata": {
    "colab": {
      "provenance": [],
      "authorship_tag": "ABX9TyPmO28y0guB3zHmAR6WNB8O",
      "include_colab_link": true
    },
    "kernelspec": {
      "name": "python3",
      "display_name": "Python 3"
    },
    "language_info": {
      "name": "python"
    }
  },
  "cells": [
    {
      "cell_type": "markdown",
      "metadata": {
        "id": "view-in-github",
        "colab_type": "text"
      },
      "source": [
        "<a href=\"https://colab.research.google.com/github/Eduflores1497/Practica-1/blob/main/prueba_chicuadrada.ipynb\" target=\"_parent\"><img src=\"https://colab.research.google.com/assets/colab-badge.svg\" alt=\"Open In Colab\"/></a>"
      ]
    },
    {
      "cell_type": "markdown",
      "source": [
        "**Práctica 1 Simulación II**\n",
        "**Prueba de uniformidad**\n",
        "\n",
        "Pinacho Flores Eduardo"
      ],
      "metadata": {
        "id": "DNQl6TcX5lyQ"
      }
    },
    {
      "cell_type": "code",
      "execution_count": 2,
      "metadata": {
        "id": "_GXCmCgzzXB9"
      },
      "outputs": [],
      "source": [
        "import matplotlib.pyplot as plt\n",
        "import numpy as np\n",
        "import random\n",
        "import math"
      ]
    },
    {
      "cell_type": "markdown",
      "source": [
        "Generamos el espacio para nuestra lista."
      ],
      "metadata": {
        "id": "LA5_JARp6FYK"
      }
    },
    {
      "cell_type": "code",
      "source": [
        "Lista=[]"
      ],
      "metadata": {
        "id": "rr5KGs0VzvP4"
      },
      "execution_count": 3,
      "outputs": []
    },
    {
      "cell_type": "markdown",
      "source": [
        "Genero un ciclo de 30 pasos, para generar 30 numéros aleatorios entre 0 y 1 usando la funcion random.uniform (0,1) y agregandó los números a mi Lista con la funcion append.\n"
      ],
      "metadata": {
        "id": "YmKdMWFp6L4K"
      }
    },
    {
      "cell_type": "code",
      "source": [
        "for i in range(30):        \n",
        "    Lista.append(random.uniform(0,1)) "
      ],
      "metadata": {
        "id": "j9cTeTjUz4dQ"
      },
      "execution_count": 4,
      "outputs": []
    },
    {
      "cell_type": "code",
      "source": [
        "print (Lista)\n",
        "print (len(Lista))"
      ],
      "metadata": {
        "colab": {
          "base_uri": "https://localhost:8080/"
        },
        "id": "xV5qh0p4pTfr",
        "outputId": "53166fc7-e5ab-48d1-b3a3-a5815f9ca118"
      },
      "execution_count": 34,
      "outputs": [
        {
          "output_type": "stream",
          "name": "stdout",
          "text": [
            "[0.6824792975052539, 0.7893397786172341, 0.34700611637418133, 0.17841801079851005, 0.4369844523111682, 0.045587503202589086, 0.25898158846892094, 0.9637333281066898, 0.1849762087022656, 0.4553305794110484, 0.07877438646967283, 0.7826203432052493, 0.40056120681043605, 0.7721271354942121, 0.30392785976884307, 0.029017946101025704, 0.07646947523638381, 0.13091903052354903, 0.677540251249524, 0.6827459515384489, 0.020202666180633155, 0.33784942498024306, 0.8734117973694161, 0.7737388571909294, 0.4959881513361346, 0.7288244912079813, 0.9395911692987089, 0.317844913596659, 0.9643565441127218, 0.44456598419546]\n",
            "30\n"
          ]
        }
      ]
    },
    {
      "cell_type": "markdown",
      "source": [
        "Para calcular el número de intervalos (bins), utilizamos m=sqrt(n), donde n es el tamaño de la muestra (30 en este caso)."
      ],
      "metadata": {
        "id": "Ow_g0c5m6vH5"
      }
    },
    {
      "cell_type": "code",
      "source": [
        "from math import sqrt\n",
        "from math import ceil\n"
      ],
      "metadata": {
        "id": "zXgaqnVV7Abh"
      },
      "execution_count": 5,
      "outputs": []
    },
    {
      "cell_type": "code",
      "source": [
        "m= sqrt(30)\n",
        "m=math.ceil(m)"
      ],
      "metadata": {
        "id": "hTr1oE0F7YyK"
      },
      "execution_count": 7,
      "outputs": []
    },
    {
      "cell_type": "markdown",
      "source": [
        "Ahora que conocemos el número de intervalos, vamos a hacer los contadores para las frecuencias observadas.\n",
        "\n",
        "c1 -> contador para intervalo [0,1/m)\n",
        "c2 -> contador para intervalo [1/m,2/m)\n",
        "c3 -> contador para intervalo [2/m,3/m)\n",
        "c4 -> contador para intervalo [3/m,4/m)\n",
        "c5 -> contador para intervalo [4/m,5/m)\n",
        "c6 -> contador para intervalo [5/m,6/m)"
      ],
      "metadata": {
        "id": "JH7IAdV6kU0Y"
      }
    },
    {
      "cell_type": "code",
      "source": [
        "c1=0;\n",
        "c2=0;\n",
        "c3=0;\n",
        "c4=0;\n",
        "c5=0;\n",
        "c6=0;"
      ],
      "metadata": {
        "id": "dizf3U3rk5zj"
      },
      "execution_count": 52,
      "outputs": []
    },
    {
      "cell_type": "code",
      "source": [
        "for i in range (30):\n",
        "    \n",
        "    if Lista[i]<(1/m):\n",
        "      c1=c1+1;\n",
        "    elif Lista[i]>=(1/m) and Lista[i]<(2/m):\n",
        "        c2=c2+1;\n",
        "    elif Lista[i]>=(2/m) and Lista[i]<(3/m):\n",
        "        c3=c3+1; \n",
        "    elif Lista[i]>=(3/m) and Lista[i]<(4/m):\n",
        "        c4=c4+1;\n",
        "    elif Lista[i]>=(4/m) and Lista[i]<(5/m):\n",
        "        c5=c5+1;\n",
        "    else:\n",
        "        c6=c6+1;"
      ],
      "metadata": {
        "id": "-fwspdg-khFQ"
      },
      "execution_count": 53,
      "outputs": []
    },
    {
      "cell_type": "markdown",
      "source": [
        "\n",
        "Imprimimos nuestros contadores de las frecuencias observadas en los intervalos c1,...,c6.\n",
        "\n",
        "Y verificamos que la suma de las frecuencias observadas sea de tamaño 30.\n",
        "\n"
      ],
      "metadata": {
        "id": "o4vUhGHTq2_f"
      }
    },
    {
      "cell_type": "code",
      "source": [
        "print (\"c1=\",c1,\"c2=\",c2,\"c3=\",c3,\"c4=\",c4,\"c5=\",c5,\"c6=\",c6)"
      ],
      "metadata": {
        "colab": {
          "base_uri": "https://localhost:8080/"
        },
        "id": "p0jJlxbVnFb0",
        "outputId": "e164ed74-9e5c-4817-9dd9-6d33196fda71"
      },
      "execution_count": 54,
      "outputs": [
        {
          "output_type": "stream",
          "name": "stdout",
          "text": [
            "c1= 6 c2= 5 c3= 7 c4= 0 c5= 8 c6= 4\n"
          ]
        }
      ]
    },
    {
      "cell_type": "code",
      "source": [
        "sum_c=c1+c2+c3+c4+c5+c6\n",
        "print (sum_c)"
      ],
      "metadata": {
        "colab": {
          "base_uri": "https://localhost:8080/"
        },
        "id": "lG3oblftpF_-",
        "outputId": "6a6e52e4-60bb-48d3-9629-11ae218e34ea"
      },
      "execution_count": 77,
      "outputs": [
        {
          "output_type": "stream",
          "name": "stdout",
          "text": [
            "30\n"
          ]
        }
      ]
    },
    {
      "cell_type": "markdown",
      "source": [
        "Ahora vamos a obtener las frecuencias esperadas con un arreglo donde cada elemento será la media de nuestros números aleatrorios."
      ],
      "metadata": {
        "id": "dn0pUU_Srskc"
      }
    },
    {
      "cell_type": "code",
      "source": [
        "Fe=[]"
      ],
      "metadata": {
        "id": "EIrLSh2NtlQW"
      },
      "execution_count": 58,
      "outputs": []
    },
    {
      "cell_type": "code",
      "source": [
        "\n",
        "for i in range (30):\n",
        "    Fe.append(np.mean(Lista))"
      ],
      "metadata": {
        "id": "rvpijEzrrbMT"
      },
      "execution_count": 60,
      "outputs": []
    },
    {
      "cell_type": "code",
      "source": [
        "print (Fe)"
      ],
      "metadata": {
        "colab": {
          "base_uri": "https://localhost:8080/"
        },
        "id": "QfAlC6ptt_X4",
        "outputId": "7fc545be-b7e2-4840-e360-dfe1bc3d624a"
      },
      "execution_count": 62,
      "outputs": [
        {
          "output_type": "stream",
          "name": "stdout",
          "text": [
            "[0.47246381497880313, 0.47246381497880313, 0.47246381497880313, 0.47246381497880313, 0.47246381497880313, 0.47246381497880313, 0.47246381497880313, 0.47246381497880313, 0.47246381497880313, 0.47246381497880313, 0.47246381497880313, 0.47246381497880313, 0.47246381497880313, 0.47246381497880313, 0.47246381497880313, 0.47246381497880313, 0.47246381497880313, 0.47246381497880313, 0.47246381497880313, 0.47246381497880313, 0.47246381497880313, 0.47246381497880313, 0.47246381497880313, 0.47246381497880313, 0.47246381497880313, 0.47246381497880313, 0.47246381497880313, 0.47246381497880313, 0.47246381497880313, 0.47246381497880313]\n"
          ]
        }
      ]
    },
    {
      "cell_type": "markdown",
      "source": [
        "Ahora vamos a calcular las diferencias al cuadrado de las frecuencias observadas y las frecuencias esperadas. Para posteriormente calcular el estimador C."
      ],
      "metadata": {
        "id": "LoK-Uc6hv3Gq"
      }
    },
    {
      "cell_type": "code",
      "source": [
        "dif_cuadradas=[]"
      ],
      "metadata": {
        "id": "2WqKi3XEv3oY"
      },
      "execution_count": 72,
      "outputs": []
    },
    {
      "cell_type": "code",
      "source": [
        "for i in range (30):\n",
        "    dif_cuadradas.append(pow(Lista[i]-Fe[i],2))\n",
        "    "
      ],
      "metadata": {
        "id": "4QswZV_LwHZW"
      },
      "execution_count": 74,
      "outputs": []
    },
    {
      "cell_type": "code",
      "source": [
        "print (dif_cuadradas)"
      ],
      "metadata": {
        "colab": {
          "base_uri": "https://localhost:8080/"
        },
        "id": "8wsTd_9LwW4o",
        "outputId": "ca4068f5-18e8-4184-c3c1-1ff8979e742e"
      },
      "execution_count": 75,
      "outputs": [
        {
          "output_type": "stream",
          "name": "stdout",
          "text": [
            "[0.04410650290081796, 0.10041037633178425, 0.015739634139168124, 0.08646293495603527, 0.0012587851753015655, 0.1822233855556635, 0.045574661035616644, 0.24134573452891078, 0.08264912376261345, 0.00029354776102017663, 0.15499136611984562, 0.09619707200148231, 0.005169985061413728, 0.08979810566232072, 0.028404368198533664, 0.19664423862476696, 0.15681151710803462, 0.11665283978858598, 0.04205634471349903, 0.044218576956089495, 0.20454014671224044, 0.01812103399468443, 0.1607592845831033, 0.09076665105991846, 0.0005533944010528676, 0.06572079631668153, 0.21820796515391477, 0.02390700466462121, 0.24195845697481463, 0.0007782889624160473]\n"
          ]
        }
      ]
    },
    {
      "cell_type": "markdown",
      "source": [
        "Procedemos a calcular el estimador C."
      ],
      "metadata": {
        "id": "5rHDut-czyBa"
      }
    },
    {
      "cell_type": "code",
      "source": [
        "c=[]"
      ],
      "metadata": {
        "id": "sSpq2h02z1ZD"
      },
      "execution_count": 98,
      "outputs": []
    },
    {
      "cell_type": "code",
      "source": [
        "for i in range (30):\n",
        "    c.append((dif_cuadradas[i])/2)"
      ],
      "metadata": {
        "id": "r8IW6YfFz7ca"
      },
      "execution_count": 99,
      "outputs": []
    },
    {
      "cell_type": "code",
      "source": [
        "print(c)"
      ],
      "metadata": {
        "colab": {
          "base_uri": "https://localhost:8080/"
        },
        "id": "GFl4_NBs0bha",
        "outputId": "9afa3eb2-8953-4320-e25a-447c5a14391b"
      },
      "execution_count": 100,
      "outputs": [
        {
          "output_type": "stream",
          "name": "stdout",
          "text": [
            "[0.02205325145040898, 0.050205188165892124, 0.007869817069584062, 0.043231467478017635, 0.0006293925876507827, 0.09111169277783175, 0.022787330517808322, 0.12067286726445539, 0.041324561881306725, 0.00014677388051008832, 0.07749568305992281, 0.048098536000741154, 0.002584992530706864, 0.04489905283116036, 0.014202184099266832, 0.09832211931238348, 0.07840575855401731, 0.05832641989429299, 0.021028172356749517, 0.022109288478044747, 0.10227007335612022, 0.009060516997342215, 0.08037964229155165, 0.04538332552995923, 0.0002766972005264338, 0.03286039815834076, 0.10910398257695739, 0.011953502332310606, 0.12097922848740732, 0.00038914448120802364]\n"
          ]
        }
      ]
    },
    {
      "cell_type": "code",
      "source": [
        "c=sum (c)\n",
        "print (c)"
      ],
      "metadata": {
        "colab": {
          "base_uri": "https://localhost:8080/"
        },
        "id": "m8mUw_tj4PzG",
        "outputId": "ae22097d-2aae-4030-8986-bc68a81e2315"
      },
      "execution_count": 101,
      "outputs": [
        {
          "output_type": "stream",
          "name": "stdout",
          "text": [
            "1.3781610616024758\n"
          ]
        }
      ]
    },
    {
      "cell_type": "code",
      "source": [
        "media=np.mean(Lista)\n",
        "c=(c/media)\n",
        "print (\"C=\",c)"
      ],
      "metadata": {
        "colab": {
          "base_uri": "https://localhost:8080/"
        },
        "id": "vX203f0d4tvR",
        "outputId": "fe9faf3a-d30c-4ae0-fd08-8f5f107cbb1e"
      },
      "execution_count": 102,
      "outputs": [
        {
          "output_type": "stream",
          "name": "stdout",
          "text": [
            "C= 2.9169663747991077\n"
          ]
        }
      ]
    },
    {
      "cell_type": "markdown",
      "source": [
        "Ahora vamos a comparar el estimador C con el chi cuadrada correspondiente a m-k-1 grados de libertad y con un nivel de significancia 1-alpha.\n",
        "Para este caso vamos a usar 99.5% de confianza con 6-1=5 grados de libertad.\n",
        "por lo que chi cuadrada=16.7496"
      ],
      "metadata": {
        "id": "DN7OCDK66HHY"
      }
    },
    {
      "cell_type": "code",
      "source": [
        "chi=16.7496\n",
        "if c<=chi:\n",
        "    print (\"Los datos siguen una distribución uniforme\")\n",
        "else:\n",
        "    print (\"Los datos no siguen una distribución uniforme\")"
      ],
      "metadata": {
        "colab": {
          "base_uri": "https://localhost:8080/"
        },
        "id": "7i26ld8S-d8K",
        "outputId": "e3f6d71c-4159-4545-9351-548805beae27"
      },
      "execution_count": 106,
      "outputs": [
        {
          "output_type": "stream",
          "name": "stdout",
          "text": [
            "Los datos siguen una distribución uniforme\n"
          ]
        }
      ]
    }
  ]
}