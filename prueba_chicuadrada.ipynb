{
  "nbformat": 4,
  "nbformat_minor": 0,
  "metadata": {
    "colab": {
      "provenance": [],
      "authorship_tag": "ABX9TyOwLXyxZZmI2hWMHWMkD+rP",
      "include_colab_link": true
    },
    "kernelspec": {
      "name": "python3",
      "display_name": "Python 3"
    },
    "language_info": {
      "name": "python"
    }
  },
  "cells": [
    {
      "cell_type": "markdown",
      "metadata": {
        "id": "view-in-github",
        "colab_type": "text"
      },
      "source": [
        "<a href=\"https://colab.research.google.com/github/Eduflores1497/Practica-1/blob/main/prueba_chicuadrada.ipynb\" target=\"_parent\"><img src=\"https://colab.research.google.com/assets/colab-badge.svg\" alt=\"Open In Colab\"/></a>"
      ]
    },
    {
      "cell_type": "markdown",
      "source": [
        "**Práctica 1 Simulación II**\n",
        "**Prueba de uniformidad**\n",
        "\n",
        "Pinacho Flores Eduardo"
      ],
      "metadata": {
        "id": "DNQl6TcX5lyQ"
      }
    },
    {
      "cell_type": "code",
      "execution_count": 2,
      "metadata": {
        "id": "_GXCmCgzzXB9"
      },
      "outputs": [],
      "source": [
        "import matplotlib.pyplot as plt\n",
        "import numpy as np\n",
        "import random\n",
        "import math"
      ]
    },
    {
      "cell_type": "markdown",
      "source": [
        "Generamos el espacio para nuestra lista."
      ],
      "metadata": {
        "id": "LA5_JARp6FYK"
      }
    },
    {
      "cell_type": "code",
      "source": [
        "Lista=[]"
      ],
      "metadata": {
        "id": "rr5KGs0VzvP4"
      },
      "execution_count": 3,
      "outputs": []
    },
    {
      "cell_type": "markdown",
      "source": [
        "Genero un ciclo de 30 pasos, para generar 30 numéros aleatorios entre 0 y 1 usando la funcion random.uniform (0,1) y agregandó los números a mi Lista con la funcion append.\n"
      ],
      "metadata": {
        "id": "YmKdMWFp6L4K"
      }
    },
    {
      "cell_type": "code",
      "source": [
        "for i in range(30):        \n",
        "    Lista.append(random.uniform(0,1)) "
      ],
      "metadata": {
        "id": "j9cTeTjUz4dQ"
      },
      "execution_count": 4,
      "outputs": []
    },
    {
      "cell_type": "code",
      "source": [
        "print (Lista)\n",
        "print (\"n.elementos=\",len(Lista))"
      ],
      "metadata": {
        "colab": {
          "base_uri": "https://localhost:8080/"
        },
        "id": "xV5qh0p4pTfr",
        "outputId": "f6d1bda6-0782-4f83-93f5-73dbe90bb093"
      },
      "execution_count": 107,
      "outputs": [
        {
          "output_type": "stream",
          "name": "stdout",
          "text": [
            "[0.6824792975052539, 0.7893397786172341, 0.34700611637418133, 0.17841801079851005, 0.4369844523111682, 0.045587503202589086, 0.25898158846892094, 0.9637333281066898, 0.1849762087022656, 0.4553305794110484, 0.07877438646967283, 0.7826203432052493, 0.40056120681043605, 0.7721271354942121, 0.30392785976884307, 0.029017946101025704, 0.07646947523638381, 0.13091903052354903, 0.677540251249524, 0.6827459515384489, 0.020202666180633155, 0.33784942498024306, 0.8734117973694161, 0.7737388571909294, 0.4959881513361346, 0.7288244912079813, 0.9395911692987089, 0.317844913596659, 0.9643565441127218, 0.44456598419546]\n",
            "n.elementos= 30\n"
          ]
        }
      ]
    },
    {
      "cell_type": "markdown",
      "source": [
        "Para calcular el número de intervalos (bins), utilizamos m=sqrt(n), donde n es el tamaño de la muestra (30 en este caso). Usamos la función ceil para redondear m hacia el entero más grande."
      ],
      "metadata": {
        "id": "Ow_g0c5m6vH5"
      }
    },
    {
      "cell_type": "code",
      "source": [
        "from math import sqrt\n",
        "from math import ceil\n"
      ],
      "metadata": {
        "id": "zXgaqnVV7Abh"
      },
      "execution_count": 5,
      "outputs": []
    },
    {
      "cell_type": "code",
      "source": [
        "m= sqrt(30)\n",
        "m=math.ceil(m)"
      ],
      "metadata": {
        "id": "hTr1oE0F7YyK"
      },
      "execution_count": 7,
      "outputs": []
    },
    {
      "cell_type": "markdown",
      "source": [
        "Ahora que conocemos el número de intervalos, vamos a hacer los contadores para las frecuencias observadas.\n",
        "\n",
        "c1 -> contador para intervalo [0,1/m)\n",
        "c2 -> contador para intervalo [1/m,2/m)\n",
        "c3 -> contador para intervalo [2/m,3/m)\n",
        "c4 -> contador para intervalo [3/m,4/m)\n",
        "c5 -> contador para intervalo [4/m,5/m)\n",
        "c6 -> contador para intervalo [5/m,6/m)"
      ],
      "metadata": {
        "id": "JH7IAdV6kU0Y"
      }
    },
    {
      "cell_type": "code",
      "source": [
        "c1=0;\n",
        "c2=0;\n",
        "c3=0;\n",
        "c4=0;\n",
        "c5=0;\n",
        "c6=0;"
      ],
      "metadata": {
        "id": "dizf3U3rk5zj"
      },
      "execution_count": 52,
      "outputs": []
    },
    {
      "cell_type": "code",
      "source": [
        "for i in range (30):\n",
        "    \n",
        "    if Lista[i]<(1/m):\n",
        "      c1=c1+1;\n",
        "    elif Lista[i]>=(1/m) and Lista[i]<(2/m):\n",
        "        c2=c2+1;\n",
        "    elif Lista[i]>=(2/m) and Lista[i]<(3/m):\n",
        "        c3=c3+1; \n",
        "    elif Lista[i]>=(3/m) and Lista[i]<(4/m):\n",
        "        c4=c4+1;\n",
        "    elif Lista[i]>=(4/m) and Lista[i]<(5/m):\n",
        "        c5=c5+1;\n",
        "    else:\n",
        "        c6=c6+1;"
      ],
      "metadata": {
        "id": "-fwspdg-khFQ"
      },
      "execution_count": 53,
      "outputs": []
    },
    {
      "cell_type": "markdown",
      "source": [
        "Agregamos nuestros contadores c1,...,c6 a nuestro arreglo de frecuencias observadas (fo)\n",
        "\n"
      ],
      "metadata": {
        "id": "o4vUhGHTq2_f"
      }
    },
    {
      "cell_type": "code",
      "source": [
        "Fo=[]\n",
        "Fo.append(c1)\n",
        "Fo.append(c2)\n",
        "Fo.append(c3)\n",
        "Fo.append(c4)\n",
        "Fo.append(c5)\n",
        "Fo.append(c6)\n",
        "print (Fo)"
      ],
      "metadata": {
        "colab": {
          "base_uri": "https://localhost:8080/"
        },
        "id": "p0jJlxbVnFb0",
        "outputId": "3bf4bfe4-b189-4368-91a0-6fc4f787b24c"
      },
      "execution_count": 117,
      "outputs": [
        {
          "output_type": "stream",
          "name": "stdout",
          "text": [
            "[6, 5, 7, 0, 8, 4]\n"
          ]
        }
      ]
    },
    {
      "cell_type": "code",
      "source": [
        "sum_fo=sum(fo)\n",
        "print (\"Total:\",sum_fo)"
      ],
      "metadata": {
        "colab": {
          "base_uri": "https://localhost:8080/"
        },
        "id": "lG3oblftpF_-",
        "outputId": "673e7a9c-734f-4eae-c279-68f87f43b261"
      },
      "execution_count": 114,
      "outputs": [
        {
          "output_type": "stream",
          "name": "stdout",
          "text": [
            "Total: 30\n"
          ]
        }
      ]
    },
    {
      "cell_type": "markdown",
      "source": [
        "Ahora vamos a obtener las frecuencias esperadas con un arreglo con nuestros valores esperados."
      ],
      "metadata": {
        "id": "dn0pUU_Srskc"
      }
    },
    {
      "cell_type": "code",
      "source": [
        "Fe=[]\n",
        "valor_esperado=30/6"
      ],
      "metadata": {
        "id": "EIrLSh2NtlQW"
      },
      "execution_count": 126,
      "outputs": []
    },
    {
      "cell_type": "code",
      "source": [
        "\n",
        "for i in range (6):\n",
        "    Fe.append(valor_esperado)"
      ],
      "metadata": {
        "id": "rvpijEzrrbMT"
      },
      "execution_count": 127,
      "outputs": []
    },
    {
      "cell_type": "code",
      "source": [
        "print (Fe)"
      ],
      "metadata": {
        "colab": {
          "base_uri": "https://localhost:8080/"
        },
        "id": "QfAlC6ptt_X4",
        "outputId": "3fa10971-fcda-43ea-c222-773ef2c6a7aa"
      },
      "execution_count": 128,
      "outputs": [
        {
          "output_type": "stream",
          "name": "stdout",
          "text": [
            "[5.0, 5.0, 5.0, 5.0, 5.0, 5.0]\n"
          ]
        }
      ]
    },
    {
      "cell_type": "markdown",
      "source": [
        "Ahora vamos a calcular las diferencias al cuadrado de las frecuencias observadas y las frecuencias esperadas. Para posteriormente calcular el estimador C."
      ],
      "metadata": {
        "id": "LoK-Uc6hv3Gq"
      }
    },
    {
      "cell_type": "code",
      "source": [
        "dif_cuadradas=[]"
      ],
      "metadata": {
        "id": "2WqKi3XEv3oY"
      },
      "execution_count": 131,
      "outputs": []
    },
    {
      "cell_type": "code",
      "source": [
        "for i in range (6):\n",
        "    dif_cuadradas.append(pow(Fo[i]-Fe[i],2))\n",
        "    "
      ],
      "metadata": {
        "id": "4QswZV_LwHZW"
      },
      "execution_count": 132,
      "outputs": []
    },
    {
      "cell_type": "code",
      "source": [
        "print (dif_cuadradas)"
      ],
      "metadata": {
        "colab": {
          "base_uri": "https://localhost:8080/"
        },
        "id": "8wsTd_9LwW4o",
        "outputId": "f54ca4d0-fece-4639-c6bb-06b2c7a19f58"
      },
      "execution_count": 133,
      "outputs": [
        {
          "output_type": "stream",
          "name": "stdout",
          "text": [
            "[1.0, 0.0, 4.0, 25.0, 9.0, 1.0]\n"
          ]
        }
      ]
    },
    {
      "cell_type": "markdown",
      "source": [
        "Procedemos a calcular el estimador C."
      ],
      "metadata": {
        "id": "5rHDut-czyBa"
      }
    },
    {
      "cell_type": "code",
      "source": [
        "c=[]"
      ],
      "metadata": {
        "id": "sSpq2h02z1ZD"
      },
      "execution_count": 142,
      "outputs": []
    },
    {
      "cell_type": "code",
      "source": [
        "for i in range (6):\n",
        "    c.append((dif_cuadradas[i])/Fe[i])"
      ],
      "metadata": {
        "id": "r8IW6YfFz7ca"
      },
      "execution_count": 143,
      "outputs": []
    },
    {
      "cell_type": "code",
      "source": [
        "print(c)"
      ],
      "metadata": {
        "colab": {
          "base_uri": "https://localhost:8080/"
        },
        "id": "GFl4_NBs0bha",
        "outputId": "7d1f0d88-59ab-457a-c466-64bb9249802d"
      },
      "execution_count": 140,
      "outputs": [
        {
          "output_type": "stream",
          "name": "stdout",
          "text": [
            "[0.2, 0.0, 0.8, 5.0, 1.8, 0.2]\n"
          ]
        }
      ]
    },
    {
      "cell_type": "code",
      "source": [
        "c=sum (c)\n",
        "print (\"El valor de C es:\",c)\n"
      ],
      "metadata": {
        "colab": {
          "base_uri": "https://localhost:8080/"
        },
        "id": "m8mUw_tj4PzG",
        "outputId": "a2fdfa52-c01a-4001-c0c8-a0eb453e37e9"
      },
      "execution_count": 144,
      "outputs": [
        {
          "output_type": "stream",
          "name": "stdout",
          "text": [
            "El valor de C es: 8.0\n"
          ]
        }
      ]
    },
    {
      "cell_type": "markdown",
      "source": [
        "Ahora vamos a comparar el estimador C con el chi cuadrada correspondiente a m-k-1 grados de libertad y con un nivel de significancia 1-alpha.\n",
        "Para este caso vamos a usar 99.5% de confianza con 6-1=5 grados de libertad.\n",
        "por lo que chi cuadrada=16.7496"
      ],
      "metadata": {
        "id": "DN7OCDK66HHY"
      }
    },
    {
      "cell_type": "code",
      "source": [
        "chi=16.7496\n",
        "if c<=chi:\n",
        "    print (\"Los datos siguen una distribución uniforme\")\n",
        "else:\n",
        "    print (\"Los datos no siguen una distribución uniforme\")"
      ],
      "metadata": {
        "colab": {
          "base_uri": "https://localhost:8080/"
        },
        "id": "7i26ld8S-d8K",
        "outputId": "7e1d96ff-3120-4fa0-9b86-713794f15291"
      },
      "execution_count": 145,
      "outputs": [
        {
          "output_type": "stream",
          "name": "stdout",
          "text": [
            "Los datos siguen una distribución uniforme\n"
          ]
        }
      ]
    }
  ]
}