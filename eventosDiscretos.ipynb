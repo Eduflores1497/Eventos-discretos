{
  "nbformat": 4,
  "nbformat_minor": 0,
  "metadata": {
    "colab": {
      "provenance": [],
      "authorship_tag": "ABX9TyOGkHYl5jPRee3KaHjW9N2t",
      "include_colab_link": true
    },
    "kernelspec": {
      "name": "python3",
      "display_name": "Python 3"
    },
    "language_info": {
      "name": "python"
    }
  },
  "cells": [
    {
      "cell_type": "markdown",
      "metadata": {
        "id": "view-in-github",
        "colab_type": "text"
      },
      "source": [
        "<a href=\"https://colab.research.google.com/github/Eduflores1497/Practica-1/blob/main/eventosDiscretos.ipynb\" target=\"_parent\"><img src=\"https://colab.research.google.com/assets/colab-badge.svg\" alt=\"Open In Colab\"/></a>"
      ]
    },
    {
      "cell_type": "code",
      "execution_count": 1,
      "metadata": {
        "colab": {
          "base_uri": "https://localhost:8080/"
        },
        "id": "fDwSxLVat30V",
        "outputId": "0a8b3a8a-9905-4589-d1cd-687bbc4e092e"
      },
      "outputs": [
        {
          "output_type": "stream",
          "name": "stdout",
          "text": [
            "Looking in indexes: https://pypi.org/simple, https://us-python.pkg.dev/colab-wheels/public/simple/\n",
            "Collecting simpy\n",
            "  Downloading simpy-4.0.1-py2.py3-none-any.whl (29 kB)\n",
            "Installing collected packages: simpy\n",
            "Successfully installed simpy-4.0.1\n"
          ]
        }
      ],
      "source": [
        "! pip install simpy"
      ]
    },
    {
      "cell_type": "code",
      "source": [
        "import simpy\n",
        "import numpy as np\n",
        "import matplotlib.pyplot as plt"
      ],
      "metadata": {
        "id": "OvhVcVtYuNeo"
      },
      "execution_count": 2,
      "outputs": []
    },
    {
      "cell_type": "code",
      "source": [
        "def llegadas():    #Generamos los tiempos de llegada de los clientes\n",
        " return np.random.exponential(1./5)"
      ],
      "metadata": {
        "id": "X3cj38_Bu7Us"
      },
      "execution_count": 3,
      "outputs": []
    },
    {
      "cell_type": "code",
      "source": [
        "def demanda():     #Generamos la demanda de los cliente\n",
        "  return np.random.randint(1/5)"
      ],
      "metadata": {
        "id": "FaxuIIlpvxlH"
      },
      "execution_count": 4,
      "outputs": []
    },
    {
      "cell_type": "code",
      "source": [
        "def proceso_run(env,ordenar,max):    #Aquí se ejecuta el sistema\n",
        "  global inventario, balance, ordenado   #Variables globales\n",
        "  inventario=max #Iniciamos con el inventario lleno\n",
        "  balance=0.0    #Ganancia inicial\n",
        "  ordenados=0.0    #Número de piezas ordenadas para rellenar stock\n",
        "  while True:\n",
        "\n",
        "    llegadas= llegadas()   #Generamos los tiempos de llegada de los clientes\n",
        "    yield env.timeout(llegadas)\n",
        "    balance-= inventario*2*llegadas  #Se generan costosf por día\n",
        "    demanda= demanda()   #Se genera la demanda de cada cliente\n",
        "    if demanda < inventario:\n",
        "       balance +=100*inventario  #Se generan ganancias por la demanda\n",
        "       inventario-=demanda   #Se resta del inventario la cantidad vendida\n",
        "       print ('{:.2} la demanda es{}'.format(env.now.demanda))\n",
        "    else:\n",
        "      balance+=100*inventario\n",
        "      inventario=0\n",
        "      print ('{:.2} el inventario es{}'.format(env.now.Inventario))"
      ],
      "metadata": {
        "id": "y4njqopzxpz1"
      },
      "execution_count": 17,
      "outputs": []
    },
    {
      "cell_type": "code",
      "source": [],
      "metadata": {
        "id": "O1ZjHVu1BsH5"
      },
      "execution_count": null,
      "outputs": []
    }
  ]
}