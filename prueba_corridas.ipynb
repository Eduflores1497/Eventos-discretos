{
  "nbformat": 4,
  "nbformat_minor": 0,
  "metadata": {
    "colab": {
      "provenance": [],
      "authorship_tag": "ABX9TyOVjIaO/LgXNW4io4eS3AVZ",
      "include_colab_link": true
    },
    "kernelspec": {
      "name": "python3",
      "display_name": "Python 3"
    },
    "language_info": {
      "name": "python"
    }
  },
  "cells": [
    {
      "cell_type": "markdown",
      "metadata": {
        "id": "view-in-github",
        "colab_type": "text"
      },
      "source": [
        "<a href=\"https://colab.research.google.com/github/Eduflores1497/Practica-1/blob/main/prueba_corridas.ipynb\" target=\"_parent\"><img src=\"https://colab.research.google.com/assets/colab-badge.svg\" alt=\"Open In Colab\"/></a>"
      ]
    },
    {
      "cell_type": "markdown",
      "source": [
        "***Pruebas de corridas***\n",
        "Pinacho Flores Eduardo"
      ],
      "metadata": {
        "id": "Lg9JRgTyYcVY"
      }
    },
    {
      "cell_type": "code",
      "execution_count": 2,
      "metadata": {
        "id": "svhSMuHEVulc"
      },
      "outputs": [],
      "source": [
        "import matplotlib.pyplot as plt\n",
        "import numpy as np\n",
        "import random\n",
        "import math"
      ]
    },
    {
      "cell_type": "markdown",
      "source": [
        "Generamos nuestra lista con el ejemplo visto en clase."
      ],
      "metadata": {
        "id": "X0D-IQ23Y2X6"
      }
    },
    {
      "cell_type": "code",
      "source": [
        "Lista=[0.43, 0.28, 0.33, 0.27, 0.12, 0.31, 0.42, 0.01, 0.32, 0.45, 0.98, 0.74, 0.99, 0.55, 0.67, 0.74, 0.16, 0.20, 0.12, 0.58]\n",
        "ri=[]"
      ],
      "metadata": {
        "id": "otKFhBePYQka"
      },
      "execution_count": 3,
      "outputs": []
    },
    {
      "cell_type": "code",
      "source": [
        "n=len(Lista)\n",
        "h=1;\n",
        "print (n)"
      ],
      "metadata": {
        "id": "fRCn6WxmeAEe",
        "colab": {
          "base_uri": "https://localhost:8080/"
        },
        "outputId": "3af8d152-2ef1-4388-e168-6e5024119cde"
      },
      "execution_count": 49,
      "outputs": [
        {
          "output_type": "stream",
          "name": "stdout",
          "text": [
            "20\n"
          ]
        }
      ]
    },
    {
      "cell_type": "markdown",
      "source": [
        "Llenamos nuestro vector ri con el siguiente criterio:\n",
        "**Si ri<=ri-1-> ri=-** Ahora para el caso contrario:\n",
        "*Si ri>ri-1->ri=+*"
      ],
      "metadata": {
        "id": "zmCScNx02Wuv"
      }
    },
    {
      "cell_type": "code",
      "source": [
        "for i in range (20):\n",
        "    if i==0:\n",
        "      print ()\n",
        "    elif Lista[i]>= Lista[i-1]:\n",
        "        ri.append(\"+\")\n",
        "    else:\n",
        "        ri.append(\"-\")"
      ],
      "metadata": {
        "colab": {
          "base_uri": "https://localhost:8080/"
        },
        "id": "Y9RLVJLCY7yK",
        "outputId": "dc22ed8f-061f-4dd5-f5b7-65efa741fb11"
      },
      "execution_count": 4,
      "outputs": [
        {
          "output_type": "stream",
          "name": "stdout",
          "text": [
            "\n"
          ]
        }
      ]
    },
    {
      "cell_type": "code",
      "source": [
        "print (\"Nuestro vector ri es:\",ri)"
      ],
      "metadata": {
        "colab": {
          "base_uri": "https://localhost:8080/"
        },
        "id": "qnr_a6PsbHnx",
        "outputId": "b55c7c2b-467f-45ff-eb27-4b459942d493"
      },
      "execution_count": 48,
      "outputs": [
        {
          "output_type": "stream",
          "name": "stdout",
          "text": [
            "Nuestro vector ri es: ['-', '+', '-', '-', '+', '+', '-', '+', '+', '+', '-', '+', '-', '+', '+', '-', '+', '-', '+']\n"
          ]
        }
      ]
    },
    {
      "cell_type": "markdown",
      "source": [
        "Empezamos a contar los cambios de signo para determinar h"
      ],
      "metadata": {
        "id": "JHIpwsRn3KFT"
      }
    },
    {
      "cell_type": "code",
      "source": [
        "for i in range (19):\n",
        "      if i==18:\n",
        "        h=h+0\n",
        "      elif ri[i]!=ri[i-1]:\n",
        "        h=h+1;\n",
        "      else:\n",
        "        h=h+0;\n",
        "     "
      ],
      "metadata": {
        "id": "VXjIEtuHdO8M"
      },
      "execution_count": 62,
      "outputs": []
    },
    {
      "cell_type": "code",
      "source": [
        "print (\"El valor de h es:\",h)"
      ],
      "metadata": {
        "colab": {
          "base_uri": "https://localhost:8080/"
        },
        "id": "9X7-xyo3eQ_c",
        "outputId": "bbfafe0f-e5e7-4319-a1ac-bb662b6011f7"
      },
      "execution_count": 63,
      "outputs": [
        {
          "output_type": "stream",
          "name": "stdout",
          "text": [
            "El valor de h es: 14\n"
          ]
        }
      ]
    },
    {
      "cell_type": "markdown",
      "source": [
        "Ahora vamos a calcular la esperanza y la varianza de h."
      ],
      "metadata": {
        "id": "D0tnEdIQ3W-G"
      }
    },
    {
      "cell_type": "code",
      "source": [
        "Eh=((2*n)-1)/3\n",
        "Vh=((16*n)-29)/90\n",
        "print (\"La esperanza de h es:\",Eh,\" y su varianza es=\",Vh)"
      ],
      "metadata": {
        "colab": {
          "base_uri": "https://localhost:8080/"
        },
        "id": "ZPyYN2nT2WeB",
        "outputId": "83280cef-c20e-4bc4-dec9-9faaeebb35c0"
      },
      "execution_count": 64,
      "outputs": [
        {
          "output_type": "stream",
          "name": "stdout",
          "text": [
            "La esperanza de h es: 13.0  y su varianza es= 3.2333333333333334\n"
          ]
        }
      ]
    },
    {
      "cell_type": "markdown",
      "source": [
        "Ahora vamos a calcular el estadístico z=(h-Eh)/(sqrt (Vh))"
      ],
      "metadata": {
        "id": "oM8Qxqor4O51"
      }
    },
    {
      "cell_type": "code",
      "source": [
        "from math import sqrt\n",
        "\n",
        "z=(h-Eh)*(1/sqrt(Vh))\n",
        "print (\"El valor de z es:\",z)"
      ],
      "metadata": {
        "colab": {
          "base_uri": "https://localhost:8080/"
        },
        "id": "s-50ohs14tR0",
        "outputId": "0abb6b21-7559-4ea0-c622-47fb579a949c"
      },
      "execution_count": 67,
      "outputs": [
        {
          "output_type": "stream",
          "name": "stdout",
          "text": [
            "El valor de z es: 0.5561279983200486\n"
          ]
        }
      ]
    },
    {
      "cell_type": "markdown",
      "source": [
        "Si **z< z_alpha**, entonces se acepta la hipótesis de independencia. Con un nivel de confianza de 95%, entonces z_alpha=1.96"
      ],
      "metadata": {
        "id": "UyTS23GU9RIl"
      }
    },
    {
      "cell_type": "code",
      "source": [
        "z_alpha=1.96"
      ],
      "metadata": {
        "id": "x4BG-ZURAthw"
      },
      "execution_count": 69,
      "outputs": []
    },
    {
      "cell_type": "code",
      "source": [
        "\n",
        "if z<z_alpha:\n",
        "    print(\"Los números generados son independientes\")\n",
        "else:\n",
        "    print (\"Los números generados no son independientes\")"
      ],
      "metadata": {
        "colab": {
          "base_uri": "https://localhost:8080/"
        },
        "id": "X0QnJBM59Db5",
        "outputId": "6b19ad16-ee12-4216-f028-8afb3b1a48d5"
      },
      "execution_count": 70,
      "outputs": [
        {
          "output_type": "stream",
          "name": "stdout",
          "text": [
            "Los números generados son independientes\n"
          ]
        }
      ]
    }
  ]
}