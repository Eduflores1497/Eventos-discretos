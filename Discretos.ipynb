{
  "nbformat": 4,
  "nbformat_minor": 0,
  "metadata": {
    "colab": {
      "provenance": [],
      "authorship_tag": "ABX9TyOH6n8ObbGN9Hlw3rabt/We",
      "include_colab_link": true
    },
    "kernelspec": {
      "name": "python3",
      "display_name": "Python 3"
    },
    "language_info": {
      "name": "python"
    }
  },
  "cells": [
    {
      "cell_type": "markdown",
      "metadata": {
        "id": "view-in-github",
        "colab_type": "text"
      },
      "source": [
        "<a href=\"https://colab.research.google.com/github/Eduflores1497/Eventos-discretos/blob/main/Discretos.ipynb\" target=\"_parent\"><img src=\"https://colab.research.google.com/assets/colab-badge.svg\" alt=\"Open In Colab\"/></a>"
      ]
    },
    {
      "cell_type": "code",
      "execution_count": 2,
      "metadata": {
        "colab": {
          "base_uri": "https://localhost:8080/"
        },
        "id": "fDwSxLVat30V",
        "outputId": "a2a24e8f-4221-4490-c842-34d483ce91d9"
      },
      "outputs": [
        {
          "output_type": "stream",
          "name": "stdout",
          "text": [
            "Looking in indexes: https://pypi.org/simple, https://us-python.pkg.dev/colab-wheels/public/simple/\n",
            "Collecting simpy\n",
            "  Downloading simpy-4.0.1-py2.py3-none-any.whl (29 kB)\n",
            "Installing collected packages: simpy\n",
            "Successfully installed simpy-4.0.1\n"
          ]
        }
      ],
      "source": [
        "! pip install simpy"
      ]
    },
    {
      "cell_type": "code",
      "source": [
        "import simpy\n",
        "import numpy as np\n",
        "import matplotlib.pyplot as plt"
      ],
      "metadata": {
        "id": "OvhVcVtYuNeo"
      },
      "execution_count": 3,
      "outputs": []
    },
    {
      "cell_type": "code",
      "source": [
        "def llegadas():    #Generamos los tiempos de llegada de los clientes\n",
        " return np.random.exponential(1./5)"
      ],
      "metadata": {
        "id": "X3cj38_Bu7Us"
      },
      "execution_count": 24,
      "outputs": []
    },
    {
      "cell_type": "code",
      "source": [
        "def generar_demanda():     #Generamos la demanda de los cliente\n",
        "  return np.random.randint(1, 5)"
      ],
      "metadata": {
        "id": "FaxuIIlpvxlH"
      },
      "execution_count": 38,
      "outputs": []
    },
    {
      "cell_type": "code",
      "source": [
        "def proceso_run(env,ordenar,max):    #Aquí se ejecuta el sistema\n",
        "  global inventario, balance, ordenados   #Variables globales\n",
        "  inventario=max #Iniciamos con el inventario lleno\n",
        "  balance=0.0    #Ganancia inicial\n",
        "  ordenados=0.0    #Número de piezas ordenadas para rellenar stock\n",
        "  while True:\n",
        "    llegada = llegadas()   #Generamos los tiempos de llegada de los clientes\n",
        "    yield env.timeout(llegada)\n",
        "    balance-= inventario*2*llegada  #Se generan costosf por día\n",
        "    demanda = generar_demanda()   #Se genera la demanda de cada cliente\n",
        "    if demanda < inventario:\n",
        "       balance +=100*inventario  #Se generan ganancias por la demanda\n",
        "       inventario-=demanda   #Se resta del inventario la cantidad vendida\n",
        "       print('{:.2f} se vendió {}'.format(env.now, inventario))\n",
        "    else:\n",
        "      balance+=100*inventario\n",
        "      inventario=0\n",
        "      print('{:.2f} se vendió {} (sin existencias)'.format(env.now, inventario))\n",
        "    if inventario < ordenar and ordenados == 0: # Si el inventario en existencia es menor que el inventario mínimo en existencia y no hay ninguna orden de productos pendientes por llegar\n",
        "      env.process(pedidos(env, max)) #agregamos el proceso de ordenar un nuevo lote de productos al ambiente de #simulación.\n",
        "\n",
        "def pedidos(env, max): # Proceso donde se pide un nuevo lote de productos.\n",
        "  global inventario, balance, ordenados #variables globales declaradas anteriormente.\n",
        "  ordenados= max - inventario # El número de productos a ordenar son los suficientes para volver a tener el  máximo.\n",
        "  balance -= 50*ordenados # Se generan costos por el no. de productos ordenados.\n",
        "  print('{:.2f} orden solicitada por {}'.format(env.now, ordenados)) # En qué momento se solicitaron tantos productos.\n",
        "  yield env.timeout(2.0) # El proceso de ordenar más productos dura dos días, así que este se \"pausa\".\n",
        "  inventario += ordenados # Los nuevos productos se agregan al conteo del inventario en existencia.\n",
        "  ordenados = 0 # Ya no existen productos ordenados en espera.\n",
        "  print('{:.2f} orden recibida, {} en inventario'.format(env.now, inventario)) # Cuánto se recibió y se tiene ahora (productos).\n"
      ],
      "metadata": {
        "id": "y4njqopzxpz1"
      },
      "execution_count": 41,
      "outputs": []
    },
    {
      "cell_type": "code",
      "source": [
        "def observacion(env): # Proceso que registra el nivel de inventario en el tiempo.\n",
        "  global inventario # Accedemos a la variable global \"inventario\" de las funciones anteriores.\n",
        "  while True: # Creamos un ciclo infinito para recrear las observaciones.\n",
        "    tiempos.append(env.now) # Lista donde almacenamos los tiempos donde se realizan las observaciones.\n",
        "    nivel_inventario.append(inventario) # Lista donde almacenamos el nivel de inventario en el tiempo previamente almacenado.\n",
        "    yield env.timeout(0.1) # Se registra una observación cada 0.1 días."
      ],
      "metadata": {
        "id": "O1ZjHVu1BsH5"
      },
      "execution_count": 20,
      "outputs": []
    },
    {
      "cell_type": "code",
      "source": [
        "np.random.seed(0) # Declaramos una semilla específica para poder estudiar el sistema.\n",
        "env = simpy.Environment() # Creamos el ambiente de simulación para Simpy.\n",
        "env.process(proceso_run(env, 10, 30)) # Agregamos el proceso principal al ambiente de simulación conlos parámetros.\n",
        "tiempos = [] # Creamos lista para registrar tiempos de cada observación.\n",
        "nivel_inventario = [] # Creamos lista para registrar los niveles de inventario en las  observaciones.\n",
        "env.process(observacion(env)) # Agregamos el proceso de observación al ambiente de simulación.\n",
        "env.run(until = 5.0) # Ejecutamos el ambiente de simulación hasta el quinto día."
      ],
      "metadata": {
        "colab": {
          "base_uri": "https://localhost:8080/"
        },
        "id": "SPZXAQoRjVQF",
        "outputId": "d34e6199-996e-437c-f306-abfa644bf854"
      },
      "execution_count": 42,
      "outputs": [
        {
          "output_type": "stream",
          "name": "stdout",
          "text": [
            "0.16 se vendió 28\n",
            "0.53 se vendió 24\n",
            "0.69 se vendió 22\n",
            "0.88 se vendió 19\n",
            "1.00 se vendió 16\n",
            "1.01 se vendió 15\n",
            "1.11 se vendió 12\n",
            "1.44 se vendió 9\n",
            "1.44 orden solicitada por 21\n",
            "1.61 se vendió 7\n",
            "1.97 se vendió 6\n",
            "1.99 se vendió 2\n",
            "2.08 se vendió 0 (sin existencias)\n",
            "2.38 se vendió 0 (sin existencias)\n",
            "2.79 se vendió 0 (sin existencias)\n",
            "3.11 se vendió 0 (sin existencias)\n",
            "3.26 se vendió 0 (sin existencias)\n",
            "3.28 se vendió 0 (sin existencias)\n",
            "3.44 orden recibida, 21 en inventario\n",
            "3.46 se vendió 19\n",
            "4.04 se vendió 15\n",
            "4.06 se vendió 11\n",
            "4.12 se vendió 7\n",
            "4.12 orden solicitada por 23\n",
            "4.39 se vendió 6\n",
            "4.56 se vendió 5\n",
            "4.63 se vendió 3\n",
            "4.82 se vendió 2\n",
            "4.92 se vendió 1\n"
          ]
        }
      ]
    },
    {
      "cell_type": "code",
      "source": [
        "plt.figure() # Imprimimos las observaciones obtenidas.\n",
        "plt.step(tiempos, nivel_inventario, where = 'post') #estudiados.\n",
        "plt.xlabel('Días simulados)')\n",
        "plt.ylabel('Número de inventario')"
      ],
      "metadata": {
        "colab": {
          "base_uri": "https://localhost:8080/",
          "height": 466
        },
        "id": "GohLD5XAnqsS",
        "outputId": "0e7995a4-4898-43a5-9648-561938610b99"
      },
      "execution_count": 44,
      "outputs": [
        {
          "output_type": "execute_result",
          "data": {
            "text/plain": [
              "Text(0, 0.5, 'Número de inventario')"
            ]
          },
          "metadata": {},
          "execution_count": 44
        },
        {
          "output_type": "display_data",
          "data": {
            "text/plain": [
              "<Figure size 640x480 with 1 Axes>"
            ],
            "image/png": "[encoded data removed]"
          },
          "metadata": {}
        }
      ]
    }
  ]
}